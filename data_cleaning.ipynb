{
 "cells": [
  {
   "cell_type": "markdown",
   "metadata": {},
   "source": [
    "## Get started with Pandas\n"
   ]
  },
  {
   "cell_type": "code",
   "execution_count": 2,
   "metadata": {
    "collapsed": true
   },
   "outputs": [],
   "source": [
    "import pandas as pd\n",
    "import numpy as np"
   ]
  },
  {
   "cell_type": "code",
   "execution_count": 3,
   "metadata": {
    "collapsed": false
   },
   "outputs": [],
   "source": [
    "pd.read_csv?"
   ]
  },
  {
   "cell_type": "code",
   "execution_count": 4,
   "metadata": {
    "collapsed": false
   },
   "outputs": [
    {
     "name": "stderr",
     "output_type": "stream",
     "text": [
      "C:\\Anaconda\\lib\\site-packages\\pandas\\io\\parsers.py:1159: DtypeWarning: Columns (19) have mixed types. Specify dtype option on import or set low_memory=False.\n",
      "  data = self._reader.read(nrows)\n"
     ]
    }
   ],
   "source": [
    "df = pd.read_csv(\"C:/cygwin64/home/Ian/dssg/Building_Violations_sample_50000.csv\")"
   ]
  },
  {
   "cell_type": "code",
   "execution_count": 7,
   "metadata": {
    "collapsed": false
   },
   "outputs": [
    {
     "data": {
      "text/html": [
       "<div style=\"max-height:1000px;max-width:1500px;overflow:auto;\">\n",
       "<table border=\"1\" class=\"dataframe\">\n",
       "  <thead>\n",
       "    <tr style=\"text-align: right;\">\n",
       "      <th></th>\n",
       "      <th>Unnamed: 0</th>\n",
       "      <th>ID</th>\n",
       "      <th>VIOLATION LAST MODIFIED DATE</th>\n",
       "      <th>VIOLATION DATE</th>\n",
       "      <th>VIOLATION CODE</th>\n",
       "      <th>VIOLATION STATUS</th>\n",
       "      <th>VIOLATION STATUS DATE</th>\n",
       "      <th>VIOLATION DESCRIPTION</th>\n",
       "      <th>VIOLATION LOCATION</th>\n",
       "      <th>VIOLATION INSPECTOR COMMENTS</th>\n",
       "      <th>...</th>\n",
       "      <th>INSPECTION STATUS</th>\n",
       "      <th>INSPECTION WAIVED</th>\n",
       "      <th>INSPECTION CATEGORY</th>\n",
       "      <th>DEPARTMENT BUREAU</th>\n",
       "      <th>ADDRESS</th>\n",
       "      <th>PROPERTY GROUP</th>\n",
       "      <th>SSA</th>\n",
       "      <th>LATITUDE</th>\n",
       "      <th>LONGITUDE</th>\n",
       "      <th>LOCATION</th>\n",
       "    </tr>\n",
       "  </thead>\n",
       "  <tbody>\n",
       "    <tr>\n",
       "      <th>49997</th>\n",
       "      <td> 49997</td>\n",
       "      <td> 1430847</td>\n",
       "      <td> 10/14/2008</td>\n",
       "      <td> 01/01/2006</td>\n",
       "      <td> CN031013</td>\n",
       "      <td> COMPLIED</td>\n",
       "      <td> 07/10/2008</td>\n",
       "      <td> FIRE EXTNGSHR REQ, RESDNTL</td>\n",
       "      <td> NaN</td>\n",
       "      <td>           ALL ELEVATION MISSING FIRE EXTINGUISHER</td>\n",
       "      <td>...</td>\n",
       "      <td> FAILED</td>\n",
       "      <td> N</td>\n",
       "      <td> PERIODIC</td>\n",
       "      <td> CONSERVATION</td>\n",
       "      <td>    6501 S LOWE AVE</td>\n",
       "      <td> 19693</td>\n",
       "      <td> NaN</td>\n",
       "      <td> 41.776074</td>\n",
       "      <td>-87.640625</td>\n",
       "      <td>  (41.7760739361563,-87.64062455203374)</td>\n",
       "    </tr>\n",
       "    <tr>\n",
       "      <th>49998</th>\n",
       "      <td> 49998</td>\n",
       "      <td> 1734149</td>\n",
       "      <td> 09/16/2008</td>\n",
       "      <td> 01/01/2006</td>\n",
       "      <td> CN135016</td>\n",
       "      <td> COMPLIED</td>\n",
       "      <td> 09/05/2008</td>\n",
       "      <td>               MICE/RODENTS</td>\n",
       "      <td> NaN</td>\n",
       "      <td>                                  MICE ON PREMISES</td>\n",
       "      <td>...</td>\n",
       "      <td> FAILED</td>\n",
       "      <td> N</td>\n",
       "      <td> PERIODIC</td>\n",
       "      <td> CONSERVATION</td>\n",
       "      <td> 4836 S INDIANA AVE</td>\n",
       "      <td> 18261</td>\n",
       "      <td> NaN</td>\n",
       "      <td> 41.806381</td>\n",
       "      <td>-87.621283</td>\n",
       "      <td> (41.80638088214982,-87.62128295874425)</td>\n",
       "    </tr>\n",
       "    <tr>\n",
       "      <th>49999</th>\n",
       "      <td> 49999</td>\n",
       "      <td> 1834762</td>\n",
       "      <td> 01/12/2007</td>\n",
       "      <td> 01/01/2006</td>\n",
       "      <td> CN190019</td>\n",
       "      <td> COMPLIED</td>\n",
       "      <td> 01/11/2007</td>\n",
       "      <td> ARRANGE PREMISE INSPECTION</td>\n",
       "      <td> NaN</td>\n",
       "      <td> NO ENTRY TO INTERIOR TO VERIFY OCCUPANCY AND D...</td>\n",
       "      <td>...</td>\n",
       "      <td> FAILED</td>\n",
       "      <td> N</td>\n",
       "      <td> PERIODIC</td>\n",
       "      <td> CONSERVATION</td>\n",
       "      <td>  200 N KOSTNER AVE</td>\n",
       "      <td>  1531</td>\n",
       "      <td> NaN</td>\n",
       "      <td> 41.883310</td>\n",
       "      <td>-87.735709</td>\n",
       "      <td> (41.88330951242491,-87.73570901056128)</td>\n",
       "    </tr>\n",
       "  </tbody>\n",
       "</table>\n",
       "<p>3 rows × 23 columns</p>\n",
       "</div>"
      ],
      "text/plain": [
       "       Unnamed: 0       ID VIOLATION LAST MODIFIED DATE VIOLATION DATE  \\\n",
       "49997       49997  1430847                   10/14/2008     01/01/2006   \n",
       "49998       49998  1734149                   09/16/2008     01/01/2006   \n",
       "49999       49999  1834762                   01/12/2007     01/01/2006   \n",
       "\n",
       "      VIOLATION CODE VIOLATION STATUS VIOLATION STATUS DATE  \\\n",
       "49997       CN031013         COMPLIED            07/10/2008   \n",
       "49998       CN135016         COMPLIED            09/05/2008   \n",
       "49999       CN190019         COMPLIED            01/11/2007   \n",
       "\n",
       "            VIOLATION DESCRIPTION VIOLATION LOCATION  \\\n",
       "49997  FIRE EXTNGSHR REQ, RESDNTL                NaN   \n",
       "49998                MICE/RODENTS                NaN   \n",
       "49999  ARRANGE PREMISE INSPECTION                NaN   \n",
       "\n",
       "                            VIOLATION INSPECTOR COMMENTS  \\\n",
       "49997            ALL ELEVATION MISSING FIRE EXTINGUISHER   \n",
       "49998                                   MICE ON PREMISES   \n",
       "49999  NO ENTRY TO INTERIOR TO VERIFY OCCUPANCY AND D...   \n",
       "\n",
       "                        ...                   INSPECTION STATUS  \\\n",
       "49997                   ...                              FAILED   \n",
       "49998                   ...                              FAILED   \n",
       "49999                   ...                              FAILED   \n",
       "\n",
       "      INSPECTION WAIVED  INSPECTION CATEGORY DEPARTMENT BUREAU  \\\n",
       "49997                 N             PERIODIC      CONSERVATION   \n",
       "49998                 N             PERIODIC      CONSERVATION   \n",
       "49999                 N             PERIODIC      CONSERVATION   \n",
       "\n",
       "                  ADDRESS PROPERTY GROUP  SSA   LATITUDE  LONGITUDE  \\\n",
       "49997     6501 S LOWE AVE          19693  NaN  41.776074 -87.640625   \n",
       "49998  4836 S INDIANA AVE          18261  NaN  41.806381 -87.621283   \n",
       "49999   200 N KOSTNER AVE           1531  NaN  41.883310 -87.735709   \n",
       "\n",
       "                                     LOCATION  \n",
       "49997   (41.7760739361563,-87.64062455203374)  \n",
       "49998  (41.80638088214982,-87.62128295874425)  \n",
       "49999  (41.88330951242491,-87.73570901056128)  \n",
       "\n",
       "[3 rows x 23 columns]"
      ]
     },
     "execution_count": 7,
     "metadata": {},
     "output_type": "execute_result"
    }
   ],
   "source": [
    "df.head()\n",
    "df.tail(3)"
   ]
  },
  {
   "cell_type": "code",
   "execution_count": 8,
   "metadata": {
    "collapsed": false
   },
   "outputs": [
    {
     "data": {
      "text/plain": [
       "(50000, 23)"
      ]
     },
     "execution_count": 8,
     "metadata": {},
     "output_type": "execute_result"
    }
   ],
   "source": [
    "df.shape"
   ]
  },
  {
   "cell_type": "code",
   "execution_count": 10,
   "metadata": {
    "collapsed": false
   },
   "outputs": [],
   "source": [
    "del df['Unnamed: 0']"
   ]
  },
  {
   "cell_type": "code",
   "execution_count": 11,
   "metadata": {
    "collapsed": false
   },
   "outputs": [
    {
     "data": {
      "text/plain": [
       "Index([u'ID', u'VIOLATION LAST MODIFIED DATE', u'VIOLATION DATE', u'VIOLATION CODE', u'VIOLATION STATUS', u'VIOLATION STATUS DATE', u'VIOLATION DESCRIPTION', u'VIOLATION LOCATION', u'VIOLATION INSPECTOR COMMENTS', u'VIOLATION ORDINANCE', u'INSPECTOR ID', u'INSPECTION NUMBER', u'INSPECTION STATUS', u'INSPECTION WAIVED', u'INSPECTION CATEGORY', u'DEPARTMENT BUREAU', u'ADDRESS', u'PROPERTY GROUP', u'SSA', u'LATITUDE', u'LONGITUDE', u'LOCATION'], dtype='object')"
      ]
     },
     "execution_count": 11,
     "metadata": {},
     "output_type": "execute_result"
    }
   ],
   "source": [
    "df.columns"
   ]
  },
  {
   "cell_type": "code",
   "execution_count": 13,
   "metadata": {
    "collapsed": false
   },
   "outputs": [],
   "source": [
    "import re\n",
    "\n",
    "def spaces_to_snake(colName):\n",
    "    # convert string to snake_case\n",
    "    s = re.sub(r\"\\s+\",'_',colName)\n",
    "    return s.lower()\n",
    "\n",
    "df.columns = [spaces_to_snake(eachCol) for eachCol in df.columns]"
   ]
  },
  {
   "cell_type": "code",
   "execution_count": 14,
   "metadata": {
    "collapsed": false
   },
   "outputs": [
    {
     "data": {
      "text/plain": [
       "Index([u'id', u'violation_last_modified_date', u'violation_date', u'violation_code', u'violation_status', u'violation_status_date', u'violation_description', u'violation_location', u'violation_inspector_comments', u'violation_ordinance', u'inspector_id', u'inspection_number', u'inspection_status', u'inspection_waived', u'inspection_category', u'department_bureau', u'address', u'property_group', u'ssa', u'latitude', u'longitude', u'location'], dtype='object')"
      ]
     },
     "execution_count": 14,
     "metadata": {},
     "output_type": "execute_result"
    }
   ],
   "source": [
    "df.columns"
   ]
  },
  {
   "cell_type": "code",
   "execution_count": 16,
   "metadata": {
    "collapsed": false
   },
   "outputs": [
    {
     "data": {
      "text/plain": [
       "0    05/21/2015\n",
       "1    05/21/2015\n",
       "2    05/21/2015\n",
       "3    05/21/2015\n",
       "4    05/21/2015\n",
       "Name: violation_date, dtype: object"
      ]
     },
     "execution_count": 16,
     "metadata": {},
     "output_type": "execute_result"
    }
   ],
   "source": [
    "df['violation_date'].head()"
   ]
  },
  {
   "cell_type": "code",
   "execution_count": 17,
   "metadata": {
    "collapsed": false
   },
   "outputs": [
    {
     "data": {
      "text/plain": [
       "0    05/21/2015\n",
       "1    05/21/2015\n",
       "2    05/21/2015\n",
       "3    05/21/2015\n",
       "4    05/21/2015\n",
       "Name: violation_date, dtype: object"
      ]
     },
     "execution_count": 17,
     "metadata": {},
     "output_type": "execute_result"
    }
   ],
   "source": [
    "df.violation_date.head()"
   ]
  },
  {
   "cell_type": "code",
   "execution_count": 18,
   "metadata": {
    "collapsed": true
   },
   "outputs": [],
   "source": [
    "df.violation_date = pd.to_datetime(df.violation_date)"
   ]
  },
  {
   "cell_type": "code",
   "execution_count": 20,
   "metadata": {
    "collapsed": false
   },
   "outputs": [
    {
     "data": {
      "text/plain": [
       "0   2015-05-21\n",
       "1   2015-05-21\n",
       "2   2015-05-21\n",
       "3   2015-05-21\n",
       "4   2015-05-21\n",
       "Name: violation_date, dtype: datetime64[ns]"
      ]
     },
     "execution_count": 20,
     "metadata": {},
     "output_type": "execute_result"
    }
   ],
   "source": [
    "df.violation_date.head()"
   ]
  },
  {
   "cell_type": "code",
   "execution_count": 21,
   "metadata": {
    "collapsed": false
   },
   "outputs": [
    {
     "data": {
      "text/html": [
       "<div style=\"max-height:1000px;max-width:1500px;overflow:auto;\">\n",
       "<table border=\"1\" class=\"dataframe\">\n",
       "  <thead>\n",
       "    <tr style=\"text-align: right;\">\n",
       "      <th></th>\n",
       "      <th>id</th>\n",
       "      <th>inspection_number</th>\n",
       "      <th>property_group</th>\n",
       "      <th>latitude</th>\n",
       "      <th>longitude</th>\n",
       "    </tr>\n",
       "  </thead>\n",
       "  <tbody>\n",
       "    <tr>\n",
       "      <th>count</th>\n",
       "      <td>   50000.000000</td>\n",
       "      <td>    50000.000000</td>\n",
       "      <td>  50000.000000</td>\n",
       "      <td> 49952.000000</td>\n",
       "      <td> 49952.000000</td>\n",
       "    </tr>\n",
       "    <tr>\n",
       "      <th>mean</th>\n",
       "      <td> 3300031.329640</td>\n",
       "      <td>  6195288.986320</td>\n",
       "      <td> 197729.741420</td>\n",
       "      <td>    41.845539</td>\n",
       "      <td>   -87.673442</td>\n",
       "    </tr>\n",
       "    <tr>\n",
       "      <th>std</th>\n",
       "      <td> 1088123.083684</td>\n",
       "      <td>  4296079.998463</td>\n",
       "      <td> 183132.260836</td>\n",
       "      <td>     0.087437</td>\n",
       "      <td>     0.057008</td>\n",
       "    </tr>\n",
       "    <tr>\n",
       "      <th>min</th>\n",
       "      <td>  742158.000000</td>\n",
       "      <td>   375113.000000</td>\n",
       "      <td>   1001.000000</td>\n",
       "      <td>    41.644712</td>\n",
       "      <td>   -87.914436</td>\n",
       "    </tr>\n",
       "    <tr>\n",
       "      <th>25%</th>\n",
       "      <td> 2400057.500000</td>\n",
       "      <td>  2021217.500000</td>\n",
       "      <td>  20600.750000</td>\n",
       "      <td>    41.771440</td>\n",
       "      <td>   -87.714271</td>\n",
       "    </tr>\n",
       "    <tr>\n",
       "      <th>50%</th>\n",
       "      <td> 3421152.000000</td>\n",
       "      <td>  2813561.000000</td>\n",
       "      <td> 142605.000000</td>\n",
       "      <td>    41.854001</td>\n",
       "      <td>   -87.670709</td>\n",
       "    </tr>\n",
       "    <tr>\n",
       "      <th>75%</th>\n",
       "      <td> 4223617.750000</td>\n",
       "      <td> 10630848.750000</td>\n",
       "      <td> 363929.250000</td>\n",
       "      <td>    41.912843</td>\n",
       "      <td>   -87.634551</td>\n",
       "    </tr>\n",
       "    <tr>\n",
       "      <th>max</th>\n",
       "      <td> 5064815.000000</td>\n",
       "      <td> 11597625.000000</td>\n",
       "      <td> 663759.000000</td>\n",
       "      <td>    42.022645</td>\n",
       "      <td>   -87.525898</td>\n",
       "    </tr>\n",
       "  </tbody>\n",
       "</table>\n",
       "</div>"
      ],
      "text/plain": [
       "                   id  inspection_number  property_group      latitude  \\\n",
       "count    50000.000000       50000.000000    50000.000000  49952.000000   \n",
       "mean   3300031.329640     6195288.986320   197729.741420     41.845539   \n",
       "std    1088123.083684     4296079.998463   183132.260836      0.087437   \n",
       "min     742158.000000      375113.000000     1001.000000     41.644712   \n",
       "25%    2400057.500000     2021217.500000    20600.750000     41.771440   \n",
       "50%    3421152.000000     2813561.000000   142605.000000     41.854001   \n",
       "75%    4223617.750000    10630848.750000   363929.250000     41.912843   \n",
       "max    5064815.000000    11597625.000000   663759.000000     42.022645   \n",
       "\n",
       "          longitude  \n",
       "count  49952.000000  \n",
       "mean     -87.673442  \n",
       "std        0.057008  \n",
       "min      -87.914436  \n",
       "25%      -87.714271  \n",
       "50%      -87.670709  \n",
       "75%      -87.634551  \n",
       "max      -87.525898  "
      ]
     },
     "execution_count": 21,
     "metadata": {},
     "output_type": "execute_result"
    }
   ],
   "source": [
    "df.describe() # numerical values only"
   ]
  },
  {
   "cell_type": "code",
   "execution_count": 22,
   "metadata": {
    "collapsed": false
   },
   "outputs": [
    {
     "data": {
      "text/plain": [
       "FAILED    38371\n",
       "PASSED     6426\n",
       "CLOSED     5199\n",
       "HOLD          4\n",
       "dtype: int64"
      ]
     },
     "execution_count": 22,
     "metadata": {},
     "output_type": "execute_result"
    }
   ],
   "source": [
    "pd.value_counts(df.inspection_status) # for categories"
   ]
  },
  {
   "cell_type": "code",
   "execution_count": 23,
   "metadata": {
    "collapsed": false
   },
   "outputs": [
    {
     "data": {
      "text/plain": [
       "False    44705\n",
       "True      5295\n",
       "dtype: int64"
      ]
     },
     "execution_count": 23,
     "metadata": {},
     "output_type": "execute_result"
    }
   ],
   "source": [
    "pd.value_counts(df.violation_inspector_comments.isnull())"
   ]
  },
  {
   "cell_type": "code",
   "execution_count": 25,
   "metadata": {
    "collapsed": false
   },
   "outputs": [],
   "source": [
    "df.violation_inspector_comments = df.violation_inspector_comments.fillna(\"No Comment\")"
   ]
  },
  {
   "cell_type": "code",
   "execution_count": 26,
   "metadata": {
    "collapsed": false
   },
   "outputs": [
    {
     "data": {
      "text/html": [
       "<div style=\"max-height:1000px;max-width:1500px;overflow:auto;\">\n",
       "<table border=\"1\" class=\"dataframe\">\n",
       "  <thead>\n",
       "    <tr style=\"text-align: right;\">\n",
       "      <th></th>\n",
       "      <th>id</th>\n",
       "      <th>violation_last_modified_date</th>\n",
       "      <th>violation_date</th>\n",
       "      <th>violation_code</th>\n",
       "      <th>violation_status</th>\n",
       "      <th>violation_status_date</th>\n",
       "      <th>violation_description</th>\n",
       "      <th>violation_location</th>\n",
       "      <th>violation_inspector_comments</th>\n",
       "      <th>violation_ordinance</th>\n",
       "      <th>...</th>\n",
       "      <th>inspection_status</th>\n",
       "      <th>inspection_waived</th>\n",
       "      <th>inspection_category</th>\n",
       "      <th>department_bureau</th>\n",
       "      <th>address</th>\n",
       "      <th>property_group</th>\n",
       "      <th>ssa</th>\n",
       "      <th>latitude</th>\n",
       "      <th>longitude</th>\n",
       "      <th>location</th>\n",
       "    </tr>\n",
       "  </thead>\n",
       "  <tbody>\n",
       "    <tr>\n",
       "      <th>13</th>\n",
       "      <td> 5063459</td>\n",
       "      <td> 05/20/2015</td>\n",
       "      <td>2015-05-20</td>\n",
       "      <td> CN193019</td>\n",
       "      <td> OPEN</td>\n",
       "      <td> NaN</td>\n",
       "      <td> REPAIR/WRECK DANGER RESID PREM</td>\n",
       "      <td> NaN</td>\n",
       "      <td> No Comment</td>\n",
       "      <td> Repair or wreck dangerous and vacant residenti...</td>\n",
       "      <td>...</td>\n",
       "      <td> CLOSED</td>\n",
       "      <td> N</td>\n",
       "      <td> COMPLAINT</td>\n",
       "      <td> DEMOLITION</td>\n",
       "      <td>    3051 S BROAD ST</td>\n",
       "      <td> 285348</td>\n",
       "      <td> NaN</td>\n",
       "      <td> 41.838454</td>\n",
       "      <td>-87.660979</td>\n",
       "      <td>   (41.83845438362799,-87.6609787384341)</td>\n",
       "    </tr>\n",
       "    <tr>\n",
       "      <th>15</th>\n",
       "      <td> 5063885</td>\n",
       "      <td> 05/21/2015</td>\n",
       "      <td>2015-05-20</td>\n",
       "      <td>   BR1001</td>\n",
       "      <td> OPEN</td>\n",
       "      <td> NaN</td>\n",
       "      <td>   OWNER OR LICENSED CONTRACTOR</td>\n",
       "      <td> NaN</td>\n",
       "      <td> No Comment</td>\n",
       "      <td> The code violations listed below must be corre...</td>\n",
       "      <td>...</td>\n",
       "      <td> CLOSED</td>\n",
       "      <td> N</td>\n",
       "      <td>  PERIODIC</td>\n",
       "      <td>     BOILER</td>\n",
       "      <td>   6448 S TRIPP AVE</td>\n",
       "      <td> 387870</td>\n",
       "      <td> NaN</td>\n",
       "      <td> 41.775328</td>\n",
       "      <td>-87.728922</td>\n",
       "      <td> (41.775328312329904,-87.72892174006991)</td>\n",
       "    </tr>\n",
       "    <tr>\n",
       "      <th>16</th>\n",
       "      <td> 5063912</td>\n",
       "      <td> 05/21/2015</td>\n",
       "      <td>2015-05-20</td>\n",
       "      <td> PL151137</td>\n",
       "      <td> OPEN</td>\n",
       "      <td> NaN</td>\n",
       "      <td>                           OPEN</td>\n",
       "      <td> NaN</td>\n",
       "      <td> No Comment</td>\n",
       "      <td>                                               NaN</td>\n",
       "      <td>...</td>\n",
       "      <td> FAILED</td>\n",
       "      <td> N</td>\n",
       "      <td>    PERMIT</td>\n",
       "      <td>   PLUMBING</td>\n",
       "      <td>   3835 W CERMAK RD</td>\n",
       "      <td> 280823</td>\n",
       "      <td> NaN</td>\n",
       "      <td> 41.851485</td>\n",
       "      <td>-87.721159</td>\n",
       "      <td>  (41.85148492680666,-87.72115941535648)</td>\n",
       "    </tr>\n",
       "    <tr>\n",
       "      <th>18</th>\n",
       "      <td> 5063320</td>\n",
       "      <td> 05/20/2015</td>\n",
       "      <td>2015-05-20</td>\n",
       "      <td> CN193019</td>\n",
       "      <td> OPEN</td>\n",
       "      <td> NaN</td>\n",
       "      <td> REPAIR/WRECK DANGER RESID PREM</td>\n",
       "      <td> NaN</td>\n",
       "      <td> No Comment</td>\n",
       "      <td> Repair or wreck dangerous and vacant residenti...</td>\n",
       "      <td>...</td>\n",
       "      <td> CLOSED</td>\n",
       "      <td> N</td>\n",
       "      <td> COMPLAINT</td>\n",
       "      <td> DEMOLITION</td>\n",
       "      <td>  11025 S ESMOND ST</td>\n",
       "      <td> 516079</td>\n",
       "      <td> NaN</td>\n",
       "      <td> 41.693018</td>\n",
       "      <td>-87.667286</td>\n",
       "      <td>  (41.69301757344688,-87.66728567428113)</td>\n",
       "    </tr>\n",
       "    <tr>\n",
       "      <th>20</th>\n",
       "      <td> 5064410</td>\n",
       "      <td> 05/20/2015</td>\n",
       "      <td>2015-05-20</td>\n",
       "      <td> CN193039</td>\n",
       "      <td> OPEN</td>\n",
       "      <td> NaN</td>\n",
       "      <td>  POST OWNER NAME OF VACNT BLDG</td>\n",
       "      <td> NaN</td>\n",
       "      <td> No Comment</td>\n",
       "      <td> Post conspicuously name, address, and telephon...</td>\n",
       "      <td>...</td>\n",
       "      <td> CLOSED</td>\n",
       "      <td> N</td>\n",
       "      <td> COMPLAINT</td>\n",
       "      <td> DEMOLITION</td>\n",
       "      <td> 6928 S KIMBARK AVE</td>\n",
       "      <td> 393870</td>\n",
       "      <td> NaN</td>\n",
       "      <td> 41.769012</td>\n",
       "      <td>-87.594164</td>\n",
       "      <td>  (41.76901189738516,-87.59416364991507)</td>\n",
       "    </tr>\n",
       "  </tbody>\n",
       "</table>\n",
       "<p>5 rows × 22 columns</p>\n",
       "</div>"
      ],
      "text/plain": [
       "         id violation_last_modified_date violation_date violation_code  \\\n",
       "13  5063459                   05/20/2015     2015-05-20       CN193019   \n",
       "15  5063885                   05/21/2015     2015-05-20         BR1001   \n",
       "16  5063912                   05/21/2015     2015-05-20       PL151137   \n",
       "18  5063320                   05/20/2015     2015-05-20       CN193019   \n",
       "20  5064410                   05/20/2015     2015-05-20       CN193039   \n",
       "\n",
       "   violation_status violation_status_date           violation_description  \\\n",
       "13             OPEN                   NaN  REPAIR/WRECK DANGER RESID PREM   \n",
       "15             OPEN                   NaN    OWNER OR LICENSED CONTRACTOR   \n",
       "16             OPEN                   NaN                            OPEN   \n",
       "18             OPEN                   NaN  REPAIR/WRECK DANGER RESID PREM   \n",
       "20             OPEN                   NaN   POST OWNER NAME OF VACNT BLDG   \n",
       "\n",
       "   violation_location violation_inspector_comments  \\\n",
       "13                NaN                   No Comment   \n",
       "15                NaN                   No Comment   \n",
       "16                NaN                   No Comment   \n",
       "18                NaN                   No Comment   \n",
       "20                NaN                   No Comment   \n",
       "\n",
       "                                  violation_ordinance  \\\n",
       "13  Repair or wreck dangerous and vacant residenti...   \n",
       "15  The code violations listed below must be corre...   \n",
       "16                                                NaN   \n",
       "18  Repair or wreck dangerous and vacant residenti...   \n",
       "20  Post conspicuously name, address, and telephon...   \n",
       "\n",
       "                     ...                    inspection_status  \\\n",
       "13                   ...                               CLOSED   \n",
       "15                   ...                               CLOSED   \n",
       "16                   ...                               FAILED   \n",
       "18                   ...                               CLOSED   \n",
       "20                   ...                               CLOSED   \n",
       "\n",
       "    inspection_waived inspection_category department_bureau  \\\n",
       "13                  N           COMPLAINT        DEMOLITION   \n",
       "15                  N            PERIODIC            BOILER   \n",
       "16                  N              PERMIT          PLUMBING   \n",
       "18                  N           COMPLAINT        DEMOLITION   \n",
       "20                  N           COMPLAINT        DEMOLITION   \n",
       "\n",
       "               address property_group  ssa   latitude  longitude  \\\n",
       "13     3051 S BROAD ST         285348  NaN  41.838454 -87.660979   \n",
       "15    6448 S TRIPP AVE         387870  NaN  41.775328 -87.728922   \n",
       "16    3835 W CERMAK RD         280823  NaN  41.851485 -87.721159   \n",
       "18   11025 S ESMOND ST         516079  NaN  41.693018 -87.667286   \n",
       "20  6928 S KIMBARK AVE         393870  NaN  41.769012 -87.594164   \n",
       "\n",
       "                                   location  \n",
       "13    (41.83845438362799,-87.6609787384341)  \n",
       "15  (41.775328312329904,-87.72892174006991)  \n",
       "16   (41.85148492680666,-87.72115941535648)  \n",
       "18   (41.69301757344688,-87.66728567428113)  \n",
       "20   (41.76901189738516,-87.59416364991507)  \n",
       "\n",
       "[5 rows x 22 columns]"
      ]
     },
     "execution_count": 26,
     "metadata": {},
     "output_type": "execute_result"
    }
   ],
   "source": [
    "df[df.violation_inspector_comments == \"No Comment\"].head()"
   ]
  },
  {
   "cell_type": "code",
   "execution_count": 27,
   "metadata": {
    "collapsed": false
   },
   "outputs": [
    {
     "data": {
      "text/plain": [
       "3    OPEN\n",
       "4    OPEN\n",
       "5    OPEN\n",
       "6    OPEN\n",
       "7    OPEN\n",
       "8    OPEN\n",
       "9    OPEN\n",
       "Name: violation_status, dtype: object"
      ]
     },
     "execution_count": 27,
     "metadata": {},
     "output_type": "execute_result"
    }
   ],
   "source": [
    "df.violation_status[3:10]"
   ]
  },
  {
   "cell_type": "code",
   "execution_count": 44,
   "metadata": {
    "collapsed": false
   },
   "outputs": [
    {
     "data": {
      "text/html": [
       "<div style=\"max-height:1000px;max-width:1500px;overflow:auto;\">\n",
       "<table border=\"1\" class=\"dataframe\">\n",
       "  <thead>\n",
       "    <tr style=\"text-align: right;\">\n",
       "      <th></th>\n",
       "      <th>violation_last_modified_date</th>\n",
       "      <th>violation_date</th>\n",
       "      <th>violation_code</th>\n",
       "      <th>violation_status</th>\n",
       "      <th>violation_status_date</th>\n",
       "      <th>violation_description</th>\n",
       "      <th>violation_location</th>\n",
       "      <th>violation_inspector_comments</th>\n",
       "      <th>violation_ordinance</th>\n",
       "    </tr>\n",
       "  </thead>\n",
       "  <tbody>\n",
       "    <tr>\n",
       "      <th>1</th>\n",
       "      <td> 05/21/2015</td>\n",
       "      <td>2015-05-21</td>\n",
       "      <td> CN044013</td>\n",
       "      <td> OPEN</td>\n",
       "      <td> NaN</td>\n",
       "      <td> PIPE OPENING W/NONCOMBUST MATL</td>\n",
       "      <td> OTHER   :    :MULTIPLE FLOORS</td>\n",
       "      <td> OPENINGS AROUND PIPES, SEAL WITH APPROVED MATE...</td>\n",
       "      <td> Failed to fill openings around exposed pipes o...</td>\n",
       "    </tr>\n",
       "    <tr>\n",
       "      <th>2</th>\n",
       "      <td> 05/21/2015</td>\n",
       "      <td>2015-05-21</td>\n",
       "      <td> CN104035</td>\n",
       "      <td> OPEN</td>\n",
       "      <td> NaN</td>\n",
       "      <td>                MAINTAIN WINDOW</td>\n",
       "      <td>                OTHER   :    :</td>\n",
       "      <td> ALL ELEVATIONS , WOOD WINDOW FRAMES  AND NORTH...</td>\n",
       "      <td> Failed to maintain windows in sound condition ...</td>\n",
       "    </tr>\n",
       "    <tr>\n",
       "      <th>3</th>\n",
       "      <td> 05/21/2015</td>\n",
       "      <td>2015-05-21</td>\n",
       "      <td> CN196029</td>\n",
       "      <td> OPEN</td>\n",
       "      <td> NaN</td>\n",
       "      <td>     POST OWNER/MANAGERS NAME/#</td>\n",
       "      <td>                OTHER   :    :</td>\n",
       "      <td>          BUILDING - NO OWNER'S I.D. SIGN POSTED .</td>\n",
       "      <td> Post name, address, and telephone of owner, ow...</td>\n",
       "    </tr>\n",
       "    <tr>\n",
       "      <th>4</th>\n",
       "      <td> 05/21/2015</td>\n",
       "      <td>2015-05-21</td>\n",
       "      <td> CN104015</td>\n",
       "      <td> OPEN</td>\n",
       "      <td> NaN</td>\n",
       "      <td>  REPLCE WINDOW PANES, PLEXGLAS</td>\n",
       "      <td>                OTHER   :    :</td>\n",
       "      <td> NORTH ELEVATION / 1ST FLOOR - BROKEN WINDOW PANE.</td>\n",
       "      <td> Replace broken, missing or defective window pa...</td>\n",
       "    </tr>\n",
       "    <tr>\n",
       "      <th>5</th>\n",
       "      <td> 05/21/2015</td>\n",
       "      <td>2015-05-21</td>\n",
       "      <td> CN190019</td>\n",
       "      <td> OPEN</td>\n",
       "      <td> NaN</td>\n",
       "      <td>     ARRANGE PREMISE INSPECTION</td>\n",
       "      <td>                OTHER   :    :</td>\n",
       "      <td> INTERIOR OF BUILDING, NO RESPONSE. UNABLE TO V...</td>\n",
       "      <td>   Arrange for inspection of premises. (13-12-100)</td>\n",
       "    </tr>\n",
       "    <tr>\n",
       "      <th>6</th>\n",
       "      <td> 05/21/2015</td>\n",
       "      <td>2015-05-21</td>\n",
       "      <td> CN015062</td>\n",
       "      <td> OPEN</td>\n",
       "      <td> NaN</td>\n",
       "      <td>       OBSTRUCTIONS IN EXIT WAY</td>\n",
       "      <td>                OTHER   :    :</td>\n",
       "      <td> EAST ELEVATION / 5649 S. 2ND FLOOR SECONDARY E...</td>\n",
       "      <td> Failed to remove obstruction from exitway that...</td>\n",
       "    </tr>\n",
       "    <tr>\n",
       "      <th>7</th>\n",
       "      <td> 05/21/2015</td>\n",
       "      <td>2015-05-21</td>\n",
       "      <td> CN065034</td>\n",
       "      <td> OPEN</td>\n",
       "      <td> NaN</td>\n",
       "      <td>            REPAIR WINDOW SILLS</td>\n",
       "      <td>                EXTERIOR:W   :</td>\n",
       "      <td> WEST ELEVATION STONE SILLS HAVE WASHED OUT MOR...</td>\n",
       "      <td> Failed to maintain window sill in good repair ...</td>\n",
       "    </tr>\n",
       "    <tr>\n",
       "      <th>8</th>\n",
       "      <td> 05/21/2015</td>\n",
       "      <td>2015-05-21</td>\n",
       "      <td> CN196029</td>\n",
       "      <td> OPEN</td>\n",
       "      <td> NaN</td>\n",
       "      <td>     POST OWNER/MANAGERS NAME/#</td>\n",
       "      <td>                OTHER   :    :</td>\n",
       "      <td>             BUILDING - NO OWNER'S ID SIGN POSTED.</td>\n",
       "      <td> Post name, address, and telephone of owner, ow...</td>\n",
       "    </tr>\n",
       "    <tr>\n",
       "      <th>9</th>\n",
       "      <td> 05/21/2015</td>\n",
       "      <td>2015-05-21</td>\n",
       "      <td> CN190019</td>\n",
       "      <td> OPEN</td>\n",
       "      <td> NaN</td>\n",
       "      <td>     ARRANGE PREMISE INSPECTION</td>\n",
       "      <td>        OTHER   :    :BUILDING</td>\n",
       "      <td> UNABLE TO INSPECT INTERIOR, STAIRWELLS, BASEME...</td>\n",
       "      <td>   Arrange for inspection of premises. (13-12-100)</td>\n",
       "    </tr>\n",
       "  </tbody>\n",
       "</table>\n",
       "</div>"
      ],
      "text/plain": [
       "  violation_last_modified_date violation_date violation_code violation_status  \\\n",
       "1                   05/21/2015     2015-05-21       CN044013             OPEN   \n",
       "2                   05/21/2015     2015-05-21       CN104035             OPEN   \n",
       "3                   05/21/2015     2015-05-21       CN196029             OPEN   \n",
       "4                   05/21/2015     2015-05-21       CN104015             OPEN   \n",
       "5                   05/21/2015     2015-05-21       CN190019             OPEN   \n",
       "6                   05/21/2015     2015-05-21       CN015062             OPEN   \n",
       "7                   05/21/2015     2015-05-21       CN065034             OPEN   \n",
       "8                   05/21/2015     2015-05-21       CN196029             OPEN   \n",
       "9                   05/21/2015     2015-05-21       CN190019             OPEN   \n",
       "\n",
       "  violation_status_date           violation_description  \\\n",
       "1                   NaN  PIPE OPENING W/NONCOMBUST MATL   \n",
       "2                   NaN                 MAINTAIN WINDOW   \n",
       "3                   NaN      POST OWNER/MANAGERS NAME/#   \n",
       "4                   NaN   REPLCE WINDOW PANES, PLEXGLAS   \n",
       "5                   NaN      ARRANGE PREMISE INSPECTION   \n",
       "6                   NaN        OBSTRUCTIONS IN EXIT WAY   \n",
       "7                   NaN             REPAIR WINDOW SILLS   \n",
       "8                   NaN      POST OWNER/MANAGERS NAME/#   \n",
       "9                   NaN      ARRANGE PREMISE INSPECTION   \n",
       "\n",
       "              violation_location  \\\n",
       "1  OTHER   :    :MULTIPLE FLOORS   \n",
       "2                 OTHER   :    :   \n",
       "3                 OTHER   :    :   \n",
       "4                 OTHER   :    :   \n",
       "5                 OTHER   :    :   \n",
       "6                 OTHER   :    :   \n",
       "7                 EXTERIOR:W   :   \n",
       "8                 OTHER   :    :   \n",
       "9         OTHER   :    :BUILDING   \n",
       "\n",
       "                        violation_inspector_comments  \\\n",
       "1  OPENINGS AROUND PIPES, SEAL WITH APPROVED MATE...   \n",
       "2  ALL ELEVATIONS , WOOD WINDOW FRAMES  AND NORTH...   \n",
       "3           BUILDING - NO OWNER'S I.D. SIGN POSTED .   \n",
       "4  NORTH ELEVATION / 1ST FLOOR - BROKEN WINDOW PANE.   \n",
       "5  INTERIOR OF BUILDING, NO RESPONSE. UNABLE TO V...   \n",
       "6  EAST ELEVATION / 5649 S. 2ND FLOOR SECONDARY E...   \n",
       "7  WEST ELEVATION STONE SILLS HAVE WASHED OUT MOR...   \n",
       "8              BUILDING - NO OWNER'S ID SIGN POSTED.   \n",
       "9  UNABLE TO INSPECT INTERIOR, STAIRWELLS, BASEME...   \n",
       "\n",
       "                                 violation_ordinance  \n",
       "1  Failed to fill openings around exposed pipes o...  \n",
       "2  Failed to maintain windows in sound condition ...  \n",
       "3  Post name, address, and telephone of owner, ow...  \n",
       "4  Replace broken, missing or defective window pa...  \n",
       "5    Arrange for inspection of premises. (13-12-100)  \n",
       "6  Failed to remove obstruction from exitway that...  \n",
       "7  Failed to maintain window sill in good repair ...  \n",
       "8  Post name, address, and telephone of owner, ow...  \n",
       "9    Arrange for inspection of premises. (13-12-100)  "
      ]
     },
     "execution_count": 44,
     "metadata": {},
     "output_type": "execute_result"
    }
   ],
   "source": [
    "df.iloc[1:10,1:10]"
   ]
  },
  {
   "cell_type": "code",
   "execution_count": 33,
   "metadata": {
    "collapsed": false
   },
   "outputs": [
    {
     "data": {
      "text/html": [
       "<div style=\"max-height:1000px;max-width:1500px;overflow:auto;\">\n",
       "<table border=\"1\" class=\"dataframe\">\n",
       "  <thead>\n",
       "    <tr style=\"text-align: right;\">\n",
       "      <th></th>\n",
       "      <th>latitude</th>\n",
       "      <th>log_lat</th>\n",
       "    </tr>\n",
       "  </thead>\n",
       "  <tbody>\n",
       "    <tr>\n",
       "      <th>0</th>\n",
       "      <td> 41.733089</td>\n",
       "      <td> 3.731294</td>\n",
       "    </tr>\n",
       "    <tr>\n",
       "      <th>1</th>\n",
       "      <td> 41.777088</td>\n",
       "      <td> 3.732348</td>\n",
       "    </tr>\n",
       "    <tr>\n",
       "      <th>2</th>\n",
       "      <td> 41.937995</td>\n",
       "      <td> 3.736192</td>\n",
       "    </tr>\n",
       "    <tr>\n",
       "      <th>3</th>\n",
       "      <td> 41.937995</td>\n",
       "      <td> 3.736192</td>\n",
       "    </tr>\n",
       "    <tr>\n",
       "      <th>4</th>\n",
       "      <td> 41.791470</td>\n",
       "      <td> 3.732692</td>\n",
       "    </tr>\n",
       "  </tbody>\n",
       "</table>\n",
       "</div>"
      ],
      "text/plain": [
       "    latitude   log_lat\n",
       "0  41.733089  3.731294\n",
       "1  41.777088  3.732348\n",
       "2  41.937995  3.736192\n",
       "3  41.937995  3.736192\n",
       "4  41.791470  3.732692"
      ]
     },
     "execution_count": 33,
     "metadata": {},
     "output_type": "execute_result"
    }
   ],
   "source": [
    "df['log_lat'] = df.latitude.apply(np.log)\n",
    "df[['latitude', 'log_lat']].head()"
   ]
  },
  {
   "cell_type": "code",
   "execution_count": 34,
   "metadata": {
    "collapsed": true
   },
   "outputs": [],
   "source": [
    "df['new_lat'] = df.latitude.apply(lambda x: x + np.random.rand())"
   ]
  },
  {
   "cell_type": "code",
   "execution_count": 35,
   "metadata": {
    "collapsed": false
   },
   "outputs": [
    {
     "data": {
      "text/html": [
       "<div style=\"max-height:1000px;max-width:1500px;overflow:auto;\">\n",
       "<table border=\"1\" class=\"dataframe\">\n",
       "  <thead>\n",
       "    <tr style=\"text-align: right;\">\n",
       "      <th></th>\n",
       "      <th>latitude</th>\n",
       "      <th>log_lat</th>\n",
       "      <th>new_lat</th>\n",
       "    </tr>\n",
       "  </thead>\n",
       "  <tbody>\n",
       "    <tr>\n",
       "      <th>0</th>\n",
       "      <td> 41.733089</td>\n",
       "      <td> 3.731294</td>\n",
       "      <td> 42.107957</td>\n",
       "    </tr>\n",
       "    <tr>\n",
       "      <th>1</th>\n",
       "      <td> 41.777088</td>\n",
       "      <td> 3.732348</td>\n",
       "      <td> 41.912421</td>\n",
       "    </tr>\n",
       "    <tr>\n",
       "      <th>2</th>\n",
       "      <td> 41.937995</td>\n",
       "      <td> 3.736192</td>\n",
       "      <td> 42.082482</td>\n",
       "    </tr>\n",
       "    <tr>\n",
       "      <th>3</th>\n",
       "      <td> 41.937995</td>\n",
       "      <td> 3.736192</td>\n",
       "      <td> 42.019388</td>\n",
       "    </tr>\n",
       "    <tr>\n",
       "      <th>4</th>\n",
       "      <td> 41.791470</td>\n",
       "      <td> 3.732692</td>\n",
       "      <td> 41.906169</td>\n",
       "    </tr>\n",
       "  </tbody>\n",
       "</table>\n",
       "</div>"
      ],
      "text/plain": [
       "    latitude   log_lat    new_lat\n",
       "0  41.733089  3.731294  42.107957\n",
       "1  41.777088  3.732348  41.912421\n",
       "2  41.937995  3.736192  42.082482\n",
       "3  41.937995  3.736192  42.019388\n",
       "4  41.791470  3.732692  41.906169"
      ]
     },
     "execution_count": 35,
     "metadata": {},
     "output_type": "execute_result"
    }
   ],
   "source": [
    "df[['latitude', 'log_lat', 'new_lat']].head()"
   ]
  },
  {
   "cell_type": "code",
   "execution_count": 36,
   "metadata": {
    "collapsed": false
   },
   "outputs": [
    {
     "data": {
      "text/html": [
       "<div style=\"max-height:1000px;max-width:1500px;overflow:auto;\">\n",
       "<table border=\"1\" class=\"dataframe\">\n",
       "  <thead>\n",
       "    <tr style=\"text-align: right;\">\n",
       "      <th></th>\n",
       "      <th>longitude</th>\n",
       "      <th>latitude</th>\n",
       "    </tr>\n",
       "    <tr>\n",
       "      <th>department_bureau</th>\n",
       "      <th></th>\n",
       "      <th></th>\n",
       "    </tr>\n",
       "  </thead>\n",
       "  <tbody>\n",
       "    <tr>\n",
       "      <th>BOILER</th>\n",
       "      <td>-87.670488</td>\n",
       "      <td> 41.841682</td>\n",
       "    </tr>\n",
       "    <tr>\n",
       "      <th>CONSERVATION</th>\n",
       "      <td>-87.673469</td>\n",
       "      <td> 41.846195</td>\n",
       "    </tr>\n",
       "    <tr>\n",
       "      <th>CONSTRUCTION EQUIPMENT</th>\n",
       "      <td>-87.684458</td>\n",
       "      <td> 41.928653</td>\n",
       "    </tr>\n",
       "    <tr>\n",
       "      <th>DEMOLITION</th>\n",
       "      <td>-87.669775</td>\n",
       "      <td> 41.807409</td>\n",
       "    </tr>\n",
       "    <tr>\n",
       "      <th>ELECTRICAL</th>\n",
       "      <td>-87.670183</td>\n",
       "      <td> 41.839267</td>\n",
       "    </tr>\n",
       "    <tr>\n",
       "      <th>ELEVATOR</th>\n",
       "      <td>-87.659214</td>\n",
       "      <td> 41.900869</td>\n",
       "    </tr>\n",
       "    <tr>\n",
       "      <th>IRON</th>\n",
       "      <td>-87.671767</td>\n",
       "      <td> 41.906648</td>\n",
       "    </tr>\n",
       "    <tr>\n",
       "      <th>NEW CONSTRUCTION</th>\n",
       "      <td>-87.683687</td>\n",
       "      <td> 41.863878</td>\n",
       "    </tr>\n",
       "    <tr>\n",
       "      <th>PLUMBING</th>\n",
       "      <td>-87.663690</td>\n",
       "      <td> 41.817108</td>\n",
       "    </tr>\n",
       "    <tr>\n",
       "      <th>REFRIGERATION</th>\n",
       "      <td>-87.679022</td>\n",
       "      <td> 41.874878</td>\n",
       "    </tr>\n",
       "    <tr>\n",
       "      <th>SIGNS</th>\n",
       "      <td>-87.688456</td>\n",
       "      <td> 41.874992</td>\n",
       "    </tr>\n",
       "    <tr>\n",
       "      <th>SPECIAL INSPECTION PROGRAM</th>\n",
       "      <td>-87.669368</td>\n",
       "      <td> 41.864683</td>\n",
       "    </tr>\n",
       "    <tr>\n",
       "      <th>SPECIAL TASK FORCE</th>\n",
       "      <td>-87.679063</td>\n",
       "      <td> 41.829780</td>\n",
       "    </tr>\n",
       "    <tr>\n",
       "      <th>VENTILATION</th>\n",
       "      <td>-87.684892</td>\n",
       "      <td> 41.889416</td>\n",
       "    </tr>\n",
       "    <tr>\n",
       "      <th>WATER</th>\n",
       "      <td>-87.665067</td>\n",
       "      <td> 41.866511</td>\n",
       "    </tr>\n",
       "  </tbody>\n",
       "</table>\n",
       "</div>"
      ],
      "text/plain": [
       "                            longitude   latitude\n",
       "department_bureau                               \n",
       "BOILER                     -87.670488  41.841682\n",
       "CONSERVATION               -87.673469  41.846195\n",
       "CONSTRUCTION EQUIPMENT     -87.684458  41.928653\n",
       "DEMOLITION                 -87.669775  41.807409\n",
       "ELECTRICAL                 -87.670183  41.839267\n",
       "ELEVATOR                   -87.659214  41.900869\n",
       "IRON                       -87.671767  41.906648\n",
       "NEW CONSTRUCTION           -87.683687  41.863878\n",
       "PLUMBING                   -87.663690  41.817108\n",
       "REFRIGERATION              -87.679022  41.874878\n",
       "SIGNS                      -87.688456  41.874992\n",
       "SPECIAL INSPECTION PROGRAM -87.669368  41.864683\n",
       "SPECIAL TASK FORCE         -87.679063  41.829780\n",
       "VENTILATION                -87.684892  41.889416\n",
       "WATER                      -87.665067  41.866511"
      ]
     },
     "execution_count": 36,
     "metadata": {},
     "output_type": "execute_result"
    }
   ],
   "source": [
    "df[['department_bureau', 'longitude', 'latitude']].groupby(\"department_bureau\").mean()"
   ]
  },
  {
   "cell_type": "markdown",
   "metadata": {},
   "source": [
    "## Team Dollop\n"
   ]
  },
  {
   "cell_type": "code",
   "execution_count": 87,
   "metadata": {
    "collapsed": true
   },
   "outputs": [],
   "source": [
    "buildings = pd.read_csv(\"C:/cygwin64/home/Ian/dssg/Building_Violations_sample_50000.csv\")"
   ]
  },
  {
   "cell_type": "code",
   "execution_count": 88,
   "metadata": {
    "collapsed": false
   },
   "outputs": [
    {
     "data": {
      "text/html": [
       "<div style=\"max-height:1000px;max-width:1500px;overflow:auto;\">\n",
       "<table border=\"1\" class=\"dataframe\">\n",
       "  <thead>\n",
       "    <tr style=\"text-align: right;\">\n",
       "      <th></th>\n",
       "      <th>Unnamed: 0</th>\n",
       "      <th>ID</th>\n",
       "      <th>VIOLATION LAST MODIFIED DATE</th>\n",
       "      <th>VIOLATION DATE</th>\n",
       "      <th>VIOLATION CODE</th>\n",
       "      <th>VIOLATION STATUS</th>\n",
       "      <th>VIOLATION STATUS DATE</th>\n",
       "      <th>VIOLATION DESCRIPTION</th>\n",
       "      <th>VIOLATION LOCATION</th>\n",
       "      <th>VIOLATION INSPECTOR COMMENTS</th>\n",
       "      <th>...</th>\n",
       "      <th>INSPECTION STATUS</th>\n",
       "      <th>INSPECTION WAIVED</th>\n",
       "      <th>INSPECTION CATEGORY</th>\n",
       "      <th>DEPARTMENT BUREAU</th>\n",
       "      <th>ADDRESS</th>\n",
       "      <th>PROPERTY GROUP</th>\n",
       "      <th>SSA</th>\n",
       "      <th>LATITUDE</th>\n",
       "      <th>LONGITUDE</th>\n",
       "      <th>LOCATION</th>\n",
       "    </tr>\n",
       "  </thead>\n",
       "  <tbody>\n",
       "    <tr>\n",
       "      <th>49995</th>\n",
       "      <td> 49995</td>\n",
       "      <td> 1438713</td>\n",
       "      <td> 06/16/2006</td>\n",
       "      <td> 01/01/2006</td>\n",
       "      <td> CN063014</td>\n",
       "      <td>     OPEN</td>\n",
       "      <td>        NaN</td>\n",
       "      <td>                    CHIMNEY</td>\n",
       "      <td> NaN</td>\n",
       "      <td>           CHIMNEY WASHED OUT MORTAR LOOSE BRICKS.</td>\n",
       "      <td>...</td>\n",
       "      <td> FAILED</td>\n",
       "      <td> N</td>\n",
       "      <td> PERIODIC</td>\n",
       "      <td> CONSERVATION</td>\n",
       "      <td>     1854 E 79TH ST</td>\n",
       "      <td> 20597</td>\n",
       "      <td>  50</td>\n",
       "      <td> 41.751683</td>\n",
       "      <td>-87.578659</td>\n",
       "      <td>  (41.75168267214598,-87.57865870399478)</td>\n",
       "    </tr>\n",
       "    <tr>\n",
       "      <th>49996</th>\n",
       "      <td> 49996</td>\n",
       "      <td> 1357061</td>\n",
       "      <td> 07/17/2006</td>\n",
       "      <td> 01/01/2006</td>\n",
       "      <td> CN070024</td>\n",
       "      <td>     OPEN</td>\n",
       "      <td>        NaN</td>\n",
       "      <td>        REPAIR PORCH SYSTEM</td>\n",
       "      <td> NaN</td>\n",
       "      <td> 35 REAR PORCH GRADE TO 3RD RAILS TOO SHORT, MI...</td>\n",
       "      <td>...</td>\n",
       "      <td> FAILED</td>\n",
       "      <td> N</td>\n",
       "      <td> PERIODIC</td>\n",
       "      <td> CONSERVATION</td>\n",
       "      <td>     31 N LOREL AVE</td>\n",
       "      <td>  1612</td>\n",
       "      <td> NaN</td>\n",
       "      <td> 41.881299</td>\n",
       "      <td>-87.758621</td>\n",
       "      <td> (41.881299199557894,-87.75862053499047)</td>\n",
       "    </tr>\n",
       "    <tr>\n",
       "      <th>49997</th>\n",
       "      <td> 49997</td>\n",
       "      <td> 1430847</td>\n",
       "      <td> 10/14/2008</td>\n",
       "      <td> 01/01/2006</td>\n",
       "      <td> CN031013</td>\n",
       "      <td> COMPLIED</td>\n",
       "      <td> 07/10/2008</td>\n",
       "      <td> FIRE EXTNGSHR REQ, RESDNTL</td>\n",
       "      <td> NaN</td>\n",
       "      <td>           ALL ELEVATION MISSING FIRE EXTINGUISHER</td>\n",
       "      <td>...</td>\n",
       "      <td> FAILED</td>\n",
       "      <td> N</td>\n",
       "      <td> PERIODIC</td>\n",
       "      <td> CONSERVATION</td>\n",
       "      <td>    6501 S LOWE AVE</td>\n",
       "      <td> 19693</td>\n",
       "      <td> NaN</td>\n",
       "      <td> 41.776074</td>\n",
       "      <td>-87.640625</td>\n",
       "      <td>   (41.7760739361563,-87.64062455203374)</td>\n",
       "    </tr>\n",
       "    <tr>\n",
       "      <th>49998</th>\n",
       "      <td> 49998</td>\n",
       "      <td> 1734149</td>\n",
       "      <td> 09/16/2008</td>\n",
       "      <td> 01/01/2006</td>\n",
       "      <td> CN135016</td>\n",
       "      <td> COMPLIED</td>\n",
       "      <td> 09/05/2008</td>\n",
       "      <td>               MICE/RODENTS</td>\n",
       "      <td> NaN</td>\n",
       "      <td>                                  MICE ON PREMISES</td>\n",
       "      <td>...</td>\n",
       "      <td> FAILED</td>\n",
       "      <td> N</td>\n",
       "      <td> PERIODIC</td>\n",
       "      <td> CONSERVATION</td>\n",
       "      <td> 4836 S INDIANA AVE</td>\n",
       "      <td> 18261</td>\n",
       "      <td> NaN</td>\n",
       "      <td> 41.806381</td>\n",
       "      <td>-87.621283</td>\n",
       "      <td>  (41.80638088214982,-87.62128295874425)</td>\n",
       "    </tr>\n",
       "    <tr>\n",
       "      <th>49999</th>\n",
       "      <td> 49999</td>\n",
       "      <td> 1834762</td>\n",
       "      <td> 01/12/2007</td>\n",
       "      <td> 01/01/2006</td>\n",
       "      <td> CN190019</td>\n",
       "      <td> COMPLIED</td>\n",
       "      <td> 01/11/2007</td>\n",
       "      <td> ARRANGE PREMISE INSPECTION</td>\n",
       "      <td> NaN</td>\n",
       "      <td> NO ENTRY TO INTERIOR TO VERIFY OCCUPANCY AND D...</td>\n",
       "      <td>...</td>\n",
       "      <td> FAILED</td>\n",
       "      <td> N</td>\n",
       "      <td> PERIODIC</td>\n",
       "      <td> CONSERVATION</td>\n",
       "      <td>  200 N KOSTNER AVE</td>\n",
       "      <td>  1531</td>\n",
       "      <td> NaN</td>\n",
       "      <td> 41.883310</td>\n",
       "      <td>-87.735709</td>\n",
       "      <td>  (41.88330951242491,-87.73570901056128)</td>\n",
       "    </tr>\n",
       "  </tbody>\n",
       "</table>\n",
       "<p>5 rows × 23 columns</p>\n",
       "</div>"
      ],
      "text/plain": [
       "       Unnamed: 0       ID VIOLATION LAST MODIFIED DATE VIOLATION DATE  \\\n",
       "49995       49995  1438713                   06/16/2006     01/01/2006   \n",
       "49996       49996  1357061                   07/17/2006     01/01/2006   \n",
       "49997       49997  1430847                   10/14/2008     01/01/2006   \n",
       "49998       49998  1734149                   09/16/2008     01/01/2006   \n",
       "49999       49999  1834762                   01/12/2007     01/01/2006   \n",
       "\n",
       "      VIOLATION CODE VIOLATION STATUS VIOLATION STATUS DATE  \\\n",
       "49995       CN063014             OPEN                   NaN   \n",
       "49996       CN070024             OPEN                   NaN   \n",
       "49997       CN031013         COMPLIED            07/10/2008   \n",
       "49998       CN135016         COMPLIED            09/05/2008   \n",
       "49999       CN190019         COMPLIED            01/11/2007   \n",
       "\n",
       "            VIOLATION DESCRIPTION VIOLATION LOCATION  \\\n",
       "49995                     CHIMNEY                NaN   \n",
       "49996         REPAIR PORCH SYSTEM                NaN   \n",
       "49997  FIRE EXTNGSHR REQ, RESDNTL                NaN   \n",
       "49998                MICE/RODENTS                NaN   \n",
       "49999  ARRANGE PREMISE INSPECTION                NaN   \n",
       "\n",
       "                            VIOLATION INSPECTOR COMMENTS  \\\n",
       "49995            CHIMNEY WASHED OUT MORTAR LOOSE BRICKS.   \n",
       "49996  35 REAR PORCH GRADE TO 3RD RAILS TOO SHORT, MI...   \n",
       "49997            ALL ELEVATION MISSING FIRE EXTINGUISHER   \n",
       "49998                                   MICE ON PREMISES   \n",
       "49999  NO ENTRY TO INTERIOR TO VERIFY OCCUPANCY AND D...   \n",
       "\n",
       "                        ...                    INSPECTION STATUS  \\\n",
       "49995                   ...                               FAILED   \n",
       "49996                   ...                               FAILED   \n",
       "49997                   ...                               FAILED   \n",
       "49998                   ...                               FAILED   \n",
       "49999                   ...                               FAILED   \n",
       "\n",
       "      INSPECTION WAIVED  INSPECTION CATEGORY DEPARTMENT BUREAU  \\\n",
       "49995                 N             PERIODIC      CONSERVATION   \n",
       "49996                 N             PERIODIC      CONSERVATION   \n",
       "49997                 N             PERIODIC      CONSERVATION   \n",
       "49998                 N             PERIODIC      CONSERVATION   \n",
       "49999                 N             PERIODIC      CONSERVATION   \n",
       "\n",
       "                  ADDRESS PROPERTY GROUP  SSA   LATITUDE  LONGITUDE  \\\n",
       "49995      1854 E 79TH ST          20597   50  41.751683 -87.578659   \n",
       "49996      31 N LOREL AVE           1612  NaN  41.881299 -87.758621   \n",
       "49997     6501 S LOWE AVE          19693  NaN  41.776074 -87.640625   \n",
       "49998  4836 S INDIANA AVE          18261  NaN  41.806381 -87.621283   \n",
       "49999   200 N KOSTNER AVE           1531  NaN  41.883310 -87.735709   \n",
       "\n",
       "                                      LOCATION  \n",
       "49995   (41.75168267214598,-87.57865870399478)  \n",
       "49996  (41.881299199557894,-87.75862053499047)  \n",
       "49997    (41.7760739361563,-87.64062455203374)  \n",
       "49998   (41.80638088214982,-87.62128295874425)  \n",
       "49999   (41.88330951242491,-87.73570901056128)  \n",
       "\n",
       "[5 rows x 23 columns]"
      ]
     },
     "execution_count": 88,
     "metadata": {},
     "output_type": "execute_result"
    }
   ],
   "source": [
    "buildings.head()\n",
    "buildings.tail()"
   ]
  },
  {
   "cell_type": "code",
   "execution_count": 111,
   "metadata": {
    "collapsed": false
   },
   "outputs": [],
   "source": [
    "import re\n",
    "\n",
    "def replace_spaces(colName):\n",
    "    s = re.sub(r\"\\s+\", \"_\", colName)\n",
    "    return s.lower()\n",
    "\n",
    "# without using regexp\n",
    "def the_hard_way(colName):\n",
    "    temp = colName.split()\n",
    "    return '_'.join(temp).lower()\n",
    "    \n",
    "buildings.columns = [the_hard_way(eachCol) for eachCol in buildings.columns]\n",
    "\n",
    "del buildings['unnamed:_0']"
   ]
  },
  {
   "cell_type": "code",
   "execution_count": 112,
   "metadata": {
    "collapsed": false
   },
   "outputs": [
    {
     "data": {
      "text/plain": [
       "[['id', False    50000\n",
       "  dtype: int64], ['violation_last_modified_date', False    50000\n",
       "  dtype: int64], ['violation_date', False    50000\n",
       "  dtype: int64], ['violation_code', False    50000\n",
       "  dtype: int64], ['violation_status', False    50000\n",
       "  dtype: int64], ['violation_status_date', True     36488\n",
       "  False    13512\n",
       "  dtype: int64], ['violation_description', False    49624\n",
       "  True       376\n",
       "  dtype: int64], ['violation_location', True     32484\n",
       "  False    17516\n",
       "  dtype: int64], ['violation_inspector_comments', False    44705\n",
       "  True      5295\n",
       "  dtype: int64], ['violation_ordinance', False    48462\n",
       "  True      1538\n",
       "  dtype: int64], ['inspector_id', False    50000\n",
       "  dtype: int64], ['inspection_number', False    50000\n",
       "  dtype: int64], ['inspection_status', False    50000\n",
       "  dtype: int64], ['inspection_waived', False    50000\n",
       "  dtype: int64], ['inspection_category', False    50000\n",
       "  dtype: int64], ['department_bureau', False    50000\n",
       "  dtype: int64], ['address', False    50000\n",
       "  dtype: int64], ['property_group', False    50000\n",
       "  dtype: int64], ['ssa', True     40639\n",
       "  False     9361\n",
       "  dtype: int64], ['latitude', False    49952\n",
       "  True        48\n",
       "  dtype: int64], ['longitude', False    49952\n",
       "  True        48\n",
       "  dtype: int64], ['location', False    49952\n",
       "  True        48\n",
       "  dtype: int64]]"
      ]
     },
     "execution_count": 112,
     "metadata": {},
     "output_type": "execute_result"
    }
   ],
   "source": [
    "# count nulls in each column\n",
    "nullCounts = [[col, buildings[col].isnull().value_counts()] for col in buildings.columns]\n",
    "nullCounts"
   ]
  },
  {
   "cell_type": "code",
   "execution_count": 114,
   "metadata": {
    "collapsed": false
   },
   "outputs": [
    {
     "data": {
      "text/plain": [
       "(1017, 22)"
      ]
     },
     "execution_count": 114,
     "metadata": {},
     "output_type": "execute_result"
    }
   ],
   "source": [
    "buildingsRemoveNull = buildings.dropna()\n",
    "buildingsRemoveNull.shape"
   ]
  },
  {
   "cell_type": "code",
   "execution_count": 115,
   "metadata": {
    "collapsed": true
   },
   "outputs": [],
   "source": [
    "buildingsInterp = buildings\n",
    "buildingsInterp.latitude = buildingsInterp.latitude.fillna(buildingsInterp.latitude.mean())\n",
    "buildingsInterp.longitude = buildingsInterp.longitude.fillna(buildingsInterp.longitude.mean())\n",
    "\n",
    "buildingsInterp.latitude.isnull().value_counts()"
   ]
  },
  {
   "cell_type": "code",
   "execution_count": 117,
   "metadata": {
    "collapsed": false
   },
   "outputs": [
    {
     "data": {
      "text/plain": [
       "False    50000\n",
       "dtype: int64"
      ]
     },
     "execution_count": 117,
     "metadata": {},
     "output_type": "execute_result"
    }
   ],
   "source": []
  },
  {
   "cell_type": "code",
   "execution_count": null,
   "metadata": {
    "collapsed": true
   },
   "outputs": [],
   "source": []
  }
 ],
 "metadata": {
  "kernelspec": {
   "display_name": "Python 2",
   "language": "python",
   "name": "python2"
  },
  "language_info": {
   "codemirror_mode": {
    "name": "ipython",
    "version": 2
   },
   "file_extension": ".py",
   "mimetype": "text/x-python",
   "name": "python",
   "nbconvert_exporter": "python",
   "pygments_lexer": "ipython2",
   "version": "2.7.9"
  }
 },
 "nbformat": 4,
 "nbformat_minor": 0
}
