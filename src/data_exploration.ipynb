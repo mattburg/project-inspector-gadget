{
 "cells": [
  {
   "cell_type": "code",
   "execution_count": 80,
   "metadata": {
    "collapsed": true
   },
   "outputs": [],
   "source": [
    "import pandas as pd\n",
    "import numpy as np\n",
    "import re\n",
    "%matplotlib inline\n",
    "import matplotlib as plt\n",
    "\n",
    "plt.style.use('ggplot')\n",
    "\n",
    "def spaces_to_snake(colName):\n",
    "    # convert string to snake_case\n",
    "    s = re.sub(r\"\\s+\",'_',colName)\n",
    "    return s.lower()\n",
    "\n",
    "\n",
    "\n",
    "\n"
   ]
  },
  {
   "cell_type": "code",
   "execution_count": 81,
   "metadata": {
    "collapsed": false
   },
   "outputs": [],
   "source": [
    "#load dataset\n",
    "df = pd.read_csv(\"/Users/mattburg/Downloads/Building_Violations.csv\")\n",
    "df.columns = [spaces_to_snake(eachCol) for eachCol in df.columns]\n",
    "\n"
   ]
  },
  {
   "cell_type": "code",
   "execution_count": 84,
   "metadata": {
    "collapsed": false
   },
   "outputs": [
    {
     "data": {
      "text/plain": [
       "<matplotlib.axes._subplots.AxesSubplot at 0x170c05150>"
      ]
     },
     "execution_count": 84,
     "metadata": {},
     "output_type": "execute_result"
    },
    {
     "data": {
      "image/png": "[encoded data removed]",
      "text/plain": [
       "<matplotlib.figure.Figure at 0x111daf750>"
      ]
     },
     "metadata": {},
     "output_type": "display_data"
    }
   ],
   "source": [
    "#plotting distribution of number of building violations by building property_group\n",
    "\n",
    "\n",
    "df = df[ (df.inspection_status == \"PASSED\") | (df.inspection_status == \"FAILED\")];\n",
    "\n",
    "df[\"ind_pf\"] = df.inspection_status == \"FAILED\";\n",
    "\n",
    "df['ind_pf'].astype(int);\n",
    "\n",
    "building_groups = df.groupby('property_group')\n",
    "\n",
    "building_groups = building_groups.aggregate(np.sum)\n",
    "\n",
    "building_groups['ind_pf'].plot(kind='hist', alpha=0.5,bins=100,figsize=(4, 4));\n",
    "\n",
    "\n",
    "\n"
   ]
  },
  {
   "cell_type": "code",
   "execution_count": null,
   "metadata": {
    "collapsed": true
   },
   "outputs": [],
   "source": []
  }
 ],
 "metadata": {
  "kernelspec": {
   "display_name": "Python 2",
   "language": "python",
   "name": "python2"
  },
  "language_info": {
   "codemirror_mode": {
    "name": "ipython",
    "version": 2
   },
   "file_extension": ".py",
   "mimetype": "text/x-python",
   "name": "python",
   "nbconvert_exporter": "python",
   "pygments_lexer": "ipython2",
   "version": "2.7.9"
  }
 },
 "nbformat": 4,
 "nbformat_minor": 0
}
