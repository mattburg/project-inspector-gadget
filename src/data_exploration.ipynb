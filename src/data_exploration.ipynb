{
 "cells": [
  {
   "cell_type": "code",
   "execution_count": 75,
   "metadata": {
    "collapsed": true
   },
   "outputs": [],
   "source": [
    "import pandas as pd\n",
    "import numpy as np\n",
    "import re\n",
    "%matplotlib inline\n",
    "import matplotlib as plt\n",
    "\n",
    "plt.style.use('ggplot')\n",
    "\n",
    "def spaces_to_snake(colName):\n",
    "    # convert string to snake_case\n",
    "    s = re.sub(r\"\\s+\",'_',colName)\n",
    "    return s.lower()\n",
    "\n",
    "\n",
    "\n",
    "\n"
   ]
  },
  {
   "cell_type": "code",
   "execution_count": 6,
   "metadata": {
    "collapsed": false
   },
   "outputs": [
    {
     "ename": "NameError",
     "evalue": "name 'spaces_to_snake' is not defined",
     "output_type": "error",
     "traceback": [
      "\u001b[0;31m---------------------------------------------------------------------------\u001b[0m",
      "\u001b[0;31mNameError\u001b[0m                                 Traceback (most recent call last)",
      "\u001b[0;32m<ipython-input-6-192ff4e5fda5>\u001b[0m in \u001b[0;36m<module>\u001b[0;34m()\u001b[0m\n\u001b[1;32m      1\u001b[0m \u001b[0mdf\u001b[0m \u001b[0;34m=\u001b[0m \u001b[0mpd\u001b[0m\u001b[0;34m.\u001b[0m\u001b[0mread_csv\u001b[0m\u001b[0;34m(\u001b[0m\u001b[0;34m\"/Users/mattburg/Downloads/Building_Violations.csv\"\u001b[0m\u001b[0;34m)\u001b[0m\u001b[0;34m\u001b[0m\u001b[0m\n\u001b[1;32m      2\u001b[0m \u001b[0;34m\u001b[0m\u001b[0m\n\u001b[0;32m----> 3\u001b[0;31m \u001b[0mdf\u001b[0m\u001b[0;34m.\u001b[0m\u001b[0mcolumns\u001b[0m \u001b[0;34m=\u001b[0m \u001b[0;34m[\u001b[0m\u001b[0mspaces_to_snake\u001b[0m\u001b[0;34m(\u001b[0m\u001b[0meachCol\u001b[0m\u001b[0;34m)\u001b[0m \u001b[0;32mfor\u001b[0m \u001b[0meachCol\u001b[0m \u001b[0;32min\u001b[0m \u001b[0mdf\u001b[0m\u001b[0;34m.\u001b[0m\u001b[0mcolumns\u001b[0m\u001b[0;34m]\u001b[0m\u001b[0;34m\u001b[0m\u001b[0m\n\u001b[0m",
      "\u001b[0;31mNameError\u001b[0m: name 'spaces_to_snake' is not defined"
     ]
    }
   ],
   "source": [
    "#load dataset\n",
    "df = pd.read_csv(\"/Users/mattburg/Downloads/Building_Violations.csv\")\n",
    "df.columns = [spaces_to_snake(eachCol) for eachCol in df.columns]\n",
    "\n"
   ]
  },
  {
   "cell_type": "code",
   "execution_count": 25,
   "metadata": {
    "collapsed": false
   },
   "outputs": [
    {
     "data": {
      "text/plain": [
       "COMPLIED    176612\n",
       "OPEN          4770\n",
       "NO ENTRY         1\n",
       "dtype: int64"
      ]
     },
     "execution_count": 25,
     "metadata": {},
     "output_type": "execute_result"
    }
   ],
   "source": [
    "df.violation_status.value_counts()\n",
    "\n",
    "df[df.inspection_status == \"PASSED\"].violation_status.value_counts()"
   ]
  },
  {
   "cell_type": "code",
   "execution_count": 50,
   "metadata": {
    "collapsed": false
   },
   "outputs": [
    {
     "data": {
      "text/html": [
       "<div style=\"max-height:1000px;max-width:1500px;overflow:auto;\">\n",
       "<table border=\"1\" class=\"dataframe\">\n",
       "  <thead>\n",
       "    <tr style=\"text-align: right;\">\n",
       "      <th></th>\n",
       "      <th>id</th>\n",
       "      <th>inspection_number</th>\n",
       "      <th>property_group</th>\n",
       "      <th>latitude</th>\n",
       "      <th>longitude</th>\n",
       "    </tr>\n",
       "  </thead>\n",
       "  <tbody>\n",
       "    <tr>\n",
       "      <th>count</th>\n",
       "      <td> 1407849.000000</td>\n",
       "      <td>  1407849.000000</td>\n",
       "      <td> 1407849.000000</td>\n",
       "      <td> 1406624.000000</td>\n",
       "      <td> 1406624.000000</td>\n",
       "    </tr>\n",
       "    <tr>\n",
       "      <th>mean</th>\n",
       "      <td> 3293062.503180</td>\n",
       "      <td>  6171214.206898</td>\n",
       "      <td>  198430.185813</td>\n",
       "      <td>      41.845213</td>\n",
       "      <td>     -87.673148</td>\n",
       "    </tr>\n",
       "    <tr>\n",
       "      <th>std</th>\n",
       "      <td> 1088501.242955</td>\n",
       "      <td>  4294537.098315</td>\n",
       "      <td>  183646.613849</td>\n",
       "      <td>       0.087452</td>\n",
       "      <td>       0.057040</td>\n",
       "    </tr>\n",
       "    <tr>\n",
       "      <th>min</th>\n",
       "      <td>  219970.000000</td>\n",
       "      <td>   132673.000000</td>\n",
       "      <td>    1000.000000</td>\n",
       "      <td>      41.644692</td>\n",
       "      <td>     -87.914436</td>\n",
       "    </tr>\n",
       "    <tr>\n",
       "      <th>25%</th>\n",
       "      <td> 2387323.000000</td>\n",
       "      <td>  2017458.000000</td>\n",
       "      <td>   20553.000000</td>\n",
       "      <td>      41.771124</td>\n",
       "      <td>     -87.714088</td>\n",
       "    </tr>\n",
       "    <tr>\n",
       "      <th>50%</th>\n",
       "      <td> 3407782.000000</td>\n",
       "      <td>  2807743.000000</td>\n",
       "      <td>  145596.000000</td>\n",
       "      <td>      41.853545</td>\n",
       "      <td>     -87.670252</td>\n",
       "    </tr>\n",
       "    <tr>\n",
       "      <th>75%</th>\n",
       "      <td> 4216293.000000</td>\n",
       "      <td> 10626062.000000</td>\n",
       "      <td>  365080.000000</td>\n",
       "      <td>      41.912448</td>\n",
       "      <td>     -87.634255</td>\n",
       "    </tr>\n",
       "    <tr>\n",
       "      <th>max</th>\n",
       "      <td> 5066110.000000</td>\n",
       "      <td> 11598090.000000</td>\n",
       "      <td>  664052.000000</td>\n",
       "      <td>      42.022686</td>\n",
       "      <td>     -87.524679</td>\n",
       "    </tr>\n",
       "  </tbody>\n",
       "</table>\n",
       "</div>"
      ],
      "text/plain": [
       "                   id  inspection_number  property_group        latitude  \\\n",
       "count  1407849.000000     1407849.000000  1407849.000000  1406624.000000   \n",
       "mean   3293062.503180     6171214.206898   198430.185813       41.845213   \n",
       "std    1088501.242955     4294537.098315   183646.613849        0.087452   \n",
       "min     219970.000000      132673.000000     1000.000000       41.644692   \n",
       "25%    2387323.000000     2017458.000000    20553.000000       41.771124   \n",
       "50%    3407782.000000     2807743.000000   145596.000000       41.853545   \n",
       "75%    4216293.000000    10626062.000000   365080.000000       41.912448   \n",
       "max    5066110.000000    11598090.000000   664052.000000       42.022686   \n",
       "\n",
       "            longitude  \n",
       "count  1406624.000000  \n",
       "mean       -87.673148  \n",
       "std          0.057040  \n",
       "min        -87.914436  \n",
       "25%        -87.714088  \n",
       "50%        -87.670252  \n",
       "75%        -87.634255  \n",
       "max        -87.524679  "
      ]
     },
     "execution_count": 50,
     "metadata": {},
     "output_type": "execute_result"
    }
   ],
   "source": [
    "#analyze data\n",
    "\n",
    "subset  = df[(df.inspection_status == 'PASSED') & (df.violation_status == \"OPEN\")]\n",
    "\n",
    "sub\n",
    "\n",
    "df.desc\n",
    "\n",
    "\n",
    "#subset.iloc[:,0:20].value_counts()\n",
    "\n",
    "#subset.iloc[:,0:20].head(100)\n"
   ]
  },
  {
   "cell_type": "code",
   "execution_count": 77,
   "metadata": {
    "collapsed": false
   },
   "outputs": [
    {
     "data": {
      "text/plain": [
       "<matplotlib.axes._subplots.AxesSubplot at 0x1137e63d0>"
      ]
     },
     "execution_count": 77,
     "metadata": {},
     "output_type": "execute_result"
    },
    {
     "data": {
      "image/png": "[encoded data removed]",
      "text/plain": [
       "<matplotlib.figure.Figure at 0x10f3b9710>"
      ]
     },
     "metadata": {},
     "output_type": "display_data"
    }
   ],
   "source": [
    "#plotting distribution of number of building violations by building property_group\n",
    "\n",
    "\n",
    "df = df[ (df.inspection_status == \"PASSED\") | (df.inspection_status == \"FAILED\")];\n",
    "\n",
    "df[\"ind_pf\"] = df.inspection_status == \"FAILED\";\n",
    "\n",
    "df['ind_pf'].astype(int);\n",
    "\n",
    "df.ind_pf.value_counts()\n",
    "\n",
    "building_groups = df.groupby('property_group')\n",
    "\n",
    "building_groups = building_groups.aggregate(np.sum)\n",
    "\n",
    "building_groups['ind_pf'].plot(kind='hist', alpha=0.5,bins=100,)\n",
    "\n",
    "\n",
    "\n"
   ]
  },
  {
   "cell_type": "code",
   "execution_count": null,
   "metadata": {
    "collapsed": true
   },
   "outputs": [],
   "source": []
  }
 ],
 "metadata": {
  "kernelspec": {
   "display_name": "Python 2",
   "language": "python",
   "name": "python2"
  },
  "language_info": {
   "codemirror_mode": {
    "name": "ipython",
    "version": 2
   },
   "file_extension": ".py",
   "mimetype": "text/x-python",
   "name": "python",
   "nbconvert_exporter": "python",
   "pygments_lexer": "ipython2",
   "version": "2.7.9"
  }
 },
 "nbformat": 4,
 "nbformat_minor": 0
}
